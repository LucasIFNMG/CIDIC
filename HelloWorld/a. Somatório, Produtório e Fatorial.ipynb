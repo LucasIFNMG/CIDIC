{
 "cells": [
  {
   "cell_type": "code",
   "execution_count": 14,
   "metadata": {},
   "outputs": [
    {
     "name": "stdout",
     "output_type": "stream",
     "text": [
      "Digite o valor de N:10\n"
     ]
    },
    {
     "data": {
      "text/plain": [
       "3628800"
      ]
     },
     "execution_count": 14,
     "metadata": {},
     "output_type": "execute_result"
    }
   ],
   "source": [
    "#Fatorial Módulo\n",
    "import math\n",
    "num = int(input(\"Digite o valor de N:\"))\n",
    "math.factorial(num)"
   ]
  },
  {
   "cell_type": "code",
   "execution_count": 2,
   "metadata": {},
   "outputs": [
    {
     "name": "stdout",
     "output_type": "stream",
     "text": [
      "Digite o valor de n: 6\n",
      "O valor de 6!  = 720\n"
     ]
    }
   ],
   "source": [
    "#Fatorial\n",
    "def main():\n",
    "    n = int(input(\"Digite o valor de n: \"))\n",
    "    fat = 1\n",
    "    i = 2\n",
    "    while i <= n:\n",
    "        fat = fat*i\n",
    "        i = i + 1\n",
    "\n",
    "    print(\"O valor de %d!  =\" %n, fat)\n",
    "\n",
    "#-----\n",
    "main()"
   ]
  },
  {
   "cell_type": "code",
   "execution_count": 3,
   "metadata": {},
   "outputs": [
    {
     "name": "stdout",
     "output_type": "stream",
     "text": [
      "Digite um inteiro [0 para terminar]: 9\n",
      "Digite um inteiro [0 para terminar]: 8\n",
      "Digite um inteiro [0 para terminar]: 5\n",
      "Digite um inteiro [0 para terminar]: 3\n",
      "Digite um inteiro [0 para terminar]: 2\n",
      "Digite um inteiro [0 para terminar]: -1\n",
      "Digite um inteiro [0 para terminar]: 0\n",
      "A soma foi:  26\n"
     ]
    }
   ],
   "source": [
    "#Somatório\n",
    "def main():\n",
    "    num = int(input(\"Digite um inteiro [0 para terminar]: \"))\n",
    "    soma = 0\n",
    "\n",
    "    while num != 0:\n",
    "        soma = soma + num\n",
    "        num = int(input(\"Digite um inteiro [0 para terminar]: \"))\n",
    "\n",
    "    print(\"A soma foi: \", soma)\n",
    "\n",
    "#-----\n",
    "main()\n"
   ]
  },
  {
   "cell_type": "code",
   "execution_count": 5,
   "metadata": {},
   "outputs": [
    {
     "name": "stdout",
     "output_type": "stream",
     "text": [
      "Soma =  288\n"
     ]
    }
   ],
   "source": [
    "#Somatório Elementos Lista\n",
    "soma = sum([1, 200, 3,9,5,10,15,20,25])\n",
    "print(\"Soma = \",soma)"
   ]
  },
  {
   "cell_type": "code",
   "execution_count": 11,
   "metadata": {},
   "outputs": [
    {
     "data": {
      "text/plain": [
       "160"
      ]
     },
     "execution_count": 11,
     "metadata": {},
     "output_type": "execute_result"
    }
   ],
   "source": [
    "#Produtório\n",
    "from functools import reduce\n",
    "import operator\n",
    "\n",
    "reduce(operator.mul, (2, 4, 10), 2)"
   ]
  },
  {
   "cell_type": "code",
   "execution_count": null,
   "metadata": {},
   "outputs": [],
   "source": []
  }
 ],
 "metadata": {
  "kernelspec": {
   "display_name": "Python 3",
   "language": "python",
   "name": "python3"
  },
  "language_info": {
   "codemirror_mode": {
    "name": "ipython",
    "version": 3
   },
   "file_extension": ".py",
   "mimetype": "text/x-python",
   "name": "python",
   "nbconvert_exporter": "python",
   "pygments_lexer": "ipython3",
   "version": "3.7.3"
  }
 },
 "nbformat": 4,
 "nbformat_minor": 2
}
