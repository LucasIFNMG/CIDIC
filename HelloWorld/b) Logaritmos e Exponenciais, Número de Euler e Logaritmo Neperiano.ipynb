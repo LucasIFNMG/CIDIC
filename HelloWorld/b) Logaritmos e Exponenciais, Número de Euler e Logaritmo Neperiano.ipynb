{
 "cells": [
  {
   "cell_type": "code",
   "execution_count": 10,
   "metadata": {},
   "outputs": [
    {
     "name": "stdout",
     "output_type": "stream",
     "text": [
      "Digite o valor da Base: 5\n",
      "Log 1 = 0.000000\n",
      "Log 2 = 0.430677\n",
      "Log 3 = 0.682606\n",
      "Log 4 = 0.861353\n",
      "Log 5 = 1.000000\n",
      "Log 6 = 1.113283\n",
      "Log 7 = 1.209062\n",
      "Log 8 = 1.292030\n",
      "Log 9 = 1.365212\n",
      "Log 10 = 1.430677\n",
      "Log 11 = 1.489896\n",
      "Log 12 = 1.543959\n",
      "Log 13 = 1.593693\n",
      "Log 14 = 1.639739\n",
      "Log 15 = 1.682606\n",
      "Log 16 = 1.722706\n",
      "Log 17 = 1.760374\n",
      "Log 18 = 1.795889\n",
      "Log 19 = 1.829483\n",
      "Log 20 = 1.861353\n"
     ]
    }
   ],
   "source": [
    "#Logaritmo\n",
    "#import math\n",
    "#x = int(input(\"Digite o valor de X: \"))\n",
    "#base = int(input(\"Digite o valor da Base: \"))\n",
    "#math.log(x,base)\n",
    "\n",
    "#Logaritmo\n",
    "from pylab import *\n",
    "import matplotlib.pyplot as plt\n",
    "import math\n",
    "base = int(input(\"Digite o valor da Base: \"))\n",
    "for x in range(1, 21):\n",
    "        print ('Log %d = %f' % (x,  math.log(x,base)))\n",
    "\n",
    "\n"
   ]
  },
  {
   "cell_type": "code",
   "execution_count": 11,
   "metadata": {},
   "outputs": [
    {
     "name": "stdout",
     "output_type": "stream",
     "text": [
      "exp 0 = 1.000000\n",
      "exp 1 = 2.718282\n",
      "exp 2 = 7.389056\n",
      "exp 3 = 20.085537\n",
      "exp 4 = 54.598150\n",
      "exp 5 = 148.413159\n",
      "exp 6 = 403.428793\n",
      "exp 7 = 1096.633158\n",
      "exp 8 = 2980.957987\n",
      "exp 9 = 8103.083928\n",
      "exp 10 = 22026.465795\n"
     ]
    },
    {
     "data": {
      "image/png": "[encoded data removed]",
      "text/plain": [
       "<Figure size 432x288 with 1 Axes>"
      ]
     },
     "metadata": {
      "needs_background": "light"
     },
     "output_type": "display_data"
    }
   ],
   "source": [
    "#Exponencial (Nº de Euler)\n",
    "from pylab import *\n",
    "import matplotlib.pyplot as plt\n",
    "import math\n",
    "for x in range(0, 11):\n",
    "        print ('exp %d = %f' % (x,  math.exp(x)))\n",
    "a = arange(0.0,10.0,0.2)\n",
    "b = exp(a)\n",
    "\n",
    "plot(a,b)\n",
    "xlabel('a')\n",
    "ylabel('b')\n",
    "title('Exponencial')\n",
    "grid(True)\n",
    " \n",
    "show()\n"
   ]
  },
  {
   "cell_type": "code",
   "execution_count": 13,
   "metadata": {},
   "outputs": [
    {
     "name": "stdout",
     "output_type": "stream",
     "text": [
      "Digite o valor de X: 1\n",
      "0.0\n"
     ]
    }
   ],
   "source": [
    "#Logaritmo Neperiano\n",
    "import math\n",
    "x = int(input(\"Digite o valor de X: \"))\n",
    "y = math.log(x)\n",
    "\n",
    "print(y)"
   ]
  }
 ],
 "metadata": {
  "kernelspec": {
   "display_name": "Python 3",
   "language": "python",
   "name": "python3"
  },
  "language_info": {
   "codemirror_mode": {
    "name": "ipython",
    "version": 3
   },
   "file_extension": ".py",
   "mimetype": "text/x-python",
   "name": "python",
   "nbconvert_exporter": "python",
   "pygments_lexer": "ipython3",
   "version": "3.7.3"
  }
 },
 "nbformat": 4,
 "nbformat_minor": 2
}
