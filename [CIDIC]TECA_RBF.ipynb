{
  "nbformat": 4,
  "nbformat_minor": 0,
  "metadata": {
    "colab": {
      "name": "[CIDIC] TECA RBF.ipynb",
      "provenance": [],
      "include_colab_link": true
    },
    "kernelspec": {
      "name": "python3",
      "display_name": "Python 3"
    }
  },
  "cells": [
    {
      "cell_type": "markdown",
      "metadata": {
        "id": "view-in-github",
        "colab_type": "text"
      },
      "source": [
        "<a href=\"https://colab.research.google.com/github/LucasPepper/CIDIC/blob/master/%5BCIDIC%5D_TECA_RBF.ipynb\" target=\"_parent\"><img src=\"https://colab.research.google.com/assets/colab-badge.svg\" alt=\"Open In Colab\"/></a>"
      ]
    },
    {
      "cell_type": "markdown",
      "metadata": {
        "id": "UXiD219fR75E",
        "colab_type": "text"
      },
      "source": [
        "Implementação da Rede Neural Radial Basis Function (RBF) aplicada à base de dados Teca (2009)\n",
        "\n",
        "[Documentação](https://scikit-learn.org/stable/modules/generated/sklearn.gaussian_process.GaussianProcessRegressor.html)"
      ]
    },
    {
      "cell_type": "code",
      "metadata": {
        "id": "ow14jfg_Nd2D",
        "colab_type": "code",
        "colab": {}
      },
      "source": [
        "# Imports\n",
        "import pandas as pd\n",
        "import numpy as np\n",
        "import matplotlib.pyplot as plt\n",
        "\n",
        "from sklearn.model_selection import cross_val_score  \n",
        "from sklearn.gaussian_process import GaussianProcessRegressor\n",
        "import sklearn.gaussian_process as gp\n",
        "\n",
        "import warnings\n",
        "warnings.filterwarnings('ignore')"
      ],
      "execution_count": 0,
      "outputs": []
    },
    {
      "cell_type": "code",
      "metadata": {
        "id": "VQ1D2TETSRSC",
        "colab_type": "code",
        "colab": {}
      },
      "source": [
        "# Carregando a base de dados:\n",
        "dados2009 = pd.read_csv('https://docs.google.com/spreadsheets/d/e/2PACX-1vRKc2W3puk4u0M-RiqVPPyU7B2PONLvRBKFj6nmWZCcW_kyh3jONo9qC8F-Xl7VZECvo74gT43rahHf/pub?gid=1753078975&single=true&output=csv')"
      ],
      "execution_count": 0,
      "outputs": []
    },
    {
      "cell_type": "code",
      "metadata": {
        "id": "cdbR4IS1S8Xs",
        "colab_type": "code",
        "colab": {}
      },
      "source": [
        "# Excluindo os atributos que não são interessantes para o treino da Regressão\n",
        "columns = dados2009.columns.drop(['Volume por ha', 'N_Talhao', 'N_Parcela'])\n",
        "\n",
        "# Inputs\n",
        "X = dados2009[columns]\n",
        "y = dados2009['Volume por ha']"
      ],
      "execution_count": 0,
      "outputs": []
    },
    {
      "cell_type": "code",
      "metadata": {
        "id": "uHFGdl-4SZOw",
        "colab_type": "code",
        "colab": {}
      },
      "source": [
        "# Instanciando o Algoritmo de RBF (Regressor)\n",
        "kernel = gp.kernels.ConstantKernel(1.0, (1e-1, 1e3)) * gp.kernels.RBF(10.0, (1e-3, 1e3))\n",
        "rbf = GaussianProcessRegressor(kernel=kernel, n_restarts_optimizer=10, alpha=0.1, normalize_y=True)"
      ],
      "execution_count": 0,
      "outputs": []
    },
    {
      "cell_type": "code",
      "metadata": {
        "id": "BPI401WcX7iy",
        "colab_type": "code",
        "outputId": "cb48d459-12b0-42bf-90f3-e321996ce36b",
        "colab": {
          "base_uri": "https://localhost:8080/",
          "height": 34
        }
      },
      "source": [
        "# Aplicando k-Fold Cross Validation (k = 10)\n",
        "acuracias2009 = cross_val_score(estimator = rbf, X = X, y = y, cv = 10)  \n",
        "acuracias2009.mean()"
      ],
      "execution_count": 31,
      "outputs": [
        {
          "output_type": "execute_result",
          "data": {
            "text/plain": [
              "0.8625894505362763"
            ]
          },
          "metadata": {
            "tags": []
          },
          "execution_count": 31
        }
      ]
    },
    {
      "cell_type": "code",
      "metadata": {
        "id": "pfDnLe30zkTf",
        "colab_type": "code",
        "colab": {
          "base_uri": "https://localhost:8080/",
          "height": 34
        },
        "outputId": "6ec0e18d-0b8e-4cf0-f92b-68e1844d32f2"
      },
      "source": [
        "# Dividindo os dados em treino e teste (80/20):\n",
        "from sklearn.model_selection import train_test_split\n",
        "X_train_2009, X_test_2009, y_train_2009, y_test_2009 = train_test_split(dados2009[columns], dados2009['Volume por ha'], test_size = 0.20)\n",
        "\n",
        "# Treinando a rede\n",
        "model = rbf.fit(X_train_2009, y_train_2009)\n",
        "\n",
        "# Aplicando o modelo\n",
        "resultado_modelo_2009 = rbf.predict(X_test_2009)\n",
        "\n",
        "# Score (R²)\n",
        "model.score(X_test_2009, y_test_2009)"
      ],
      "execution_count": 33,
      "outputs": [
        {
          "output_type": "execute_result",
          "data": {
            "text/plain": [
              "0.9146106456659425"
            ]
          },
          "metadata": {
            "tags": []
          },
          "execution_count": 33
        }
      ]
    }
  ]
}
